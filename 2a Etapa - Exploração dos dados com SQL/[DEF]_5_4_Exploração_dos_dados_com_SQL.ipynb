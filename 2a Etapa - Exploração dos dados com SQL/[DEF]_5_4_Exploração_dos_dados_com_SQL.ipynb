{
  "nbformat": 4,
  "nbformat_minor": 0,
  "metadata": {
    "colab": {
      "name": "[DEF] 5.4 - Exploração dos dados com SQL.ipynb",
      "provenance": [],
      "collapsed_sections": []
    },
    "kernelspec": {
      "name": "python3",
      "display_name": "Python 3"
    }
  },
  "cells": [
    {
      "cell_type": "code",
      "metadata": {
        "id": "ZMiqtGphxBMJ",
        "colab_type": "code",
        "colab": {
          "base_uri": "https://localhost:8080/",
          "height": 170
        },
        "outputId": "478a7ff3-c7e2-4dea-bc4b-baf295fa533f"
      },
      "source": [
        "import pandas as pd\n",
        "\n",
        "df_ovnis = pd.read_csv(\"ovnis.csv\", index_col=[0])\n",
        "\n",
        "print(\"1. Quantidade de variáveis que foram coletadas:\")\n",
        "#Conta a quantidade de vdados para cada variavel com a funcao count()\n",
        "df_ovnis.count()"
      ],
      "execution_count": 3,
      "outputs": [
        {
          "output_type": "stream",
          "text": [
            "1. Quantidade de variáveis que foram coletadas:\n"
          ],
          "name": "stdout"
        },
        {
          "output_type": "execute_result",
          "data": {
            "text/plain": [
              "Date / Time    71901\n",
              "City           71759\n",
              "State          67565\n",
              "Shape          70508\n",
              "Duration       69939\n",
              "Summary        71894\n",
              "Posted         71901\n",
              "dtype: int64"
            ]
          },
          "metadata": {
            "tags": []
          },
          "execution_count": 3
        }
      ]
    },
    {
      "cell_type": "code",
      "metadata": {
        "id": "JGW3C-cixD5D",
        "colab_type": "code",
        "colab": {
          "base_uri": "https://localhost:8080/",
          "height": 255
        },
        "outputId": "bb322796-9ebf-4176-8235-a364db449b9d"
      },
      "source": [
        "print(\"2. Relatos que ocorreram por estado em ordem decrescente:\")\n",
        "#Usa a funcao groupby() pra agrupar por estado, a funcao count() para contar e a funcao sort_values() para ordenar de forma decrescente\n",
        "df_relatos = df_ovnis\n",
        "df_relatos = df_relatos.groupby('State').count()\n",
        "df_relatos = df_relatos.sort_values(ascending=False, by=\"Posted\")['Posted']\n",
        "df_relatos"
      ],
      "execution_count": 4,
      "outputs": [
        {
          "output_type": "stream",
          "text": [
            "2. Relatos que ocorreram por estado em ordem decrescente:\n"
          ],
          "name": "stdout"
        },
        {
          "output_type": "execute_result",
          "data": {
            "text/plain": [
              "State\n",
              "CA    7911\n",
              "FL    4352\n",
              "WA    3225\n",
              "TX    2882\n",
              "NY    2824\n",
              "      ... \n",
              "NF      21\n",
              "YT      14\n",
              "PE       9\n",
              "NT       7\n",
              "SA       4\n",
              "Name: Posted, Length: 64, dtype: int64"
            ]
          },
          "metadata": {
            "tags": []
          },
          "execution_count": 4
        }
      ]
    },
    {
      "cell_type": "code",
      "metadata": {
        "id": "F4-pNLVWxGv6",
        "colab_type": "code",
        "colab": {
          "base_uri": "https://localhost:8080/",
          "height": 436
        },
        "outputId": "f3a13509-64d9-4fda-895a-099c2af99a34"
      },
      "source": [
        "print(\"3. Remover possíveis campos vazios (sem estado):\")\n",
        "#Exclui toda linha cujo Estado seja nulo com a funcao dropna()\n",
        "df_ovnis = df_ovnis.dropna(subset=[\"State\"])\n",
        "df_ovnis"
      ],
      "execution_count": 5,
      "outputs": [
        {
          "output_type": "stream",
          "text": [
            "3. Remover possíveis campos vazios (sem estado):\n"
          ],
          "name": "stdout"
        },
        {
          "output_type": "execute_result",
          "data": {
            "text/html": [
              "<div>\n",
              "<style scoped>\n",
              "    .dataframe tbody tr th:only-of-type {\n",
              "        vertical-align: middle;\n",
              "    }\n",
              "\n",
              "    .dataframe tbody tr th {\n",
              "        vertical-align: top;\n",
              "    }\n",
              "\n",
              "    .dataframe thead th {\n",
              "        text-align: right;\n",
              "    }\n",
              "</style>\n",
              "<table border=\"1\" class=\"dataframe\">\n",
              "  <thead>\n",
              "    <tr style=\"text-align: right;\">\n",
              "      <th></th>\n",
              "      <th>Date / Time</th>\n",
              "      <th>City</th>\n",
              "      <th>State</th>\n",
              "      <th>Shape</th>\n",
              "      <th>Duration</th>\n",
              "      <th>Summary</th>\n",
              "      <th>Posted</th>\n",
              "    </tr>\n",
              "  </thead>\n",
              "  <tbody>\n",
              "    <tr>\n",
              "      <th>0</th>\n",
              "      <td>9/30/97 20:00</td>\n",
              "      <td>Nova Scotia (Canada)</td>\n",
              "      <td>NS</td>\n",
              "      <td>Light</td>\n",
              "      <td>8-10 seconds.</td>\n",
              "      <td>Single light resembling a star, but moving spu...</td>\n",
              "      <td>10/30/06</td>\n",
              "    </tr>\n",
              "    <tr>\n",
              "      <th>1</th>\n",
              "      <td>9/22/97 20:00</td>\n",
              "      <td>Solomons Island</td>\n",
              "      <td>MD</td>\n",
              "      <td>Disk</td>\n",
              "      <td>10 minutes</td>\n",
              "      <td>Close up at twilight,  Stationary UFO.</td>\n",
              "      <td>8/5/09</td>\n",
              "    </tr>\n",
              "    <tr>\n",
              "      <th>2</th>\n",
              "      <td>9/19/97</td>\n",
              "      <td>Garden Grove</td>\n",
              "      <td>CA</td>\n",
              "      <td>Rectangle</td>\n",
              "      <td>4 mins.</td>\n",
              "      <td>Around 6:30 PM I was walking through a Vons Pa...</td>\n",
              "      <td>12/1/19</td>\n",
              "    </tr>\n",
              "    <tr>\n",
              "      <th>3</th>\n",
              "      <td>9/18/97 20:15</td>\n",
              "      <td>Panama City</td>\n",
              "      <td>FL</td>\n",
              "      <td>Unknown</td>\n",
              "      <td>30 seconds</td>\n",
              "      <td>Looked like stars in the sky so far up/moveing...</td>\n",
              "      <td>3/13/12</td>\n",
              "    </tr>\n",
              "    <tr>\n",
              "      <th>4</th>\n",
              "      <td>9/15/97 00:00</td>\n",
              "      <td>Houston</td>\n",
              "      <td>TX</td>\n",
              "      <td>Disk</td>\n",
              "      <td>5 minutes</td>\n",
              "      <td>Beautiful silver-colored flying saucer about t...</td>\n",
              "      <td>7/19/10</td>\n",
              "    </tr>\n",
              "    <tr>\n",
              "      <th>...</th>\n",
              "      <td>...</td>\n",
              "      <td>...</td>\n",
              "      <td>...</td>\n",
              "      <td>...</td>\n",
              "      <td>...</td>\n",
              "      <td>...</td>\n",
              "      <td>...</td>\n",
              "    </tr>\n",
              "    <tr>\n",
              "      <th>71896</th>\n",
              "      <td>8/1/17 02:45</td>\n",
              "      <td>Corcoran</td>\n",
              "      <td>MN</td>\n",
              "      <td>Light</td>\n",
              "      <td>Still going</td>\n",
              "      <td>Small light south west of Minneapolis maneuver...</td>\n",
              "      <td>8/4/17</td>\n",
              "    </tr>\n",
              "    <tr>\n",
              "      <th>71897</th>\n",
              "      <td>8/1/17 02:00</td>\n",
              "      <td>Moreno Valley</td>\n",
              "      <td>CA</td>\n",
              "      <td>Other</td>\n",
              "      <td>10 seconds</td>\n",
              "      <td>I was looking out the front windshield and loo...</td>\n",
              "      <td>8/4/17</td>\n",
              "    </tr>\n",
              "    <tr>\n",
              "      <th>71898</th>\n",
              "      <td>8/1/17 01:00</td>\n",
              "      <td>Bradenton</td>\n",
              "      <td>FL</td>\n",
              "      <td>Other</td>\n",
              "      <td>&lt;20 seconds</td>\n",
              "      <td>I was walking my dog about 1am on August 1, 20...</td>\n",
              "      <td>5/9/19</td>\n",
              "    </tr>\n",
              "    <tr>\n",
              "      <th>71899</th>\n",
              "      <td>8/1/17 00:00</td>\n",
              "      <td>Springdale</td>\n",
              "      <td>AR</td>\n",
              "      <td>NaN</td>\n",
              "      <td>1 hour</td>\n",
              "      <td>Glowing flying people . seven of them flying l...</td>\n",
              "      <td>2/13/20</td>\n",
              "    </tr>\n",
              "    <tr>\n",
              "      <th>71900</th>\n",
              "      <td>8/1/17</td>\n",
              "      <td>Laurel</td>\n",
              "      <td>MD</td>\n",
              "      <td>Other</td>\n",
              "      <td>NaN</td>\n",
              "      <td>It was an alien project level 1 federal ran on...</td>\n",
              "      <td>6/25/20</td>\n",
              "    </tr>\n",
              "  </tbody>\n",
              "</table>\n",
              "<p>67565 rows × 7 columns</p>\n",
              "</div>"
            ],
            "text/plain": [
              "         Date / Time  ...    Posted\n",
              "0      9/30/97 20:00  ...  10/30/06\n",
              "1      9/22/97 20:00  ...    8/5/09\n",
              "2            9/19/97  ...   12/1/19\n",
              "3      9/18/97 20:15  ...   3/13/12\n",
              "4      9/15/97 00:00  ...   7/19/10\n",
              "...              ...  ...       ...\n",
              "71896   8/1/17 02:45  ...    8/4/17\n",
              "71897   8/1/17 02:00  ...    8/4/17\n",
              "71898   8/1/17 01:00  ...    5/9/19\n",
              "71899   8/1/17 00:00  ...   2/13/20\n",
              "71900         8/1/17  ...   6/25/20\n",
              "\n",
              "[67565 rows x 7 columns]"
            ]
          },
          "metadata": {
            "tags": []
          },
          "execution_count": 5
        }
      ]
    },
    {
      "cell_type": "code",
      "metadata": {
        "id": "_I15qog2xImS",
        "colab_type": "code",
        "colab": {
          "base_uri": "https://localhost:8080/",
          "height": 436
        },
        "outputId": "3a6039e4-d70b-4ae1-e9e0-bf75f3303b4b"
      },
      "source": [
        "print(\"4. Limitar a análise aos estados dos Estados Unidos.\")\n",
        "\n",
        "#como a planilha nao oferece dados dos paises de origem, o vetor abaixo representa a sigla dos estados dos EUA\n",
        "states = [\"AL\", \"AK\", \"AZ\", \"AR\", \"CA\", \"CO\", \"CT\", \"DC\", \"DE\", \"FL\", \"GA\", \n",
        "          \"HI\", \"ID\", \"IL\", \"IN\", \"IA\", \"KS\", \"KY\", \"LA\", \"ME\", \"MD\", \n",
        "          \"MA\", \"MI\", \"MN\", \"MS\", \"MO\", \"MT\", \"NE\", \"NV\", \"NH\", \"NJ\", \n",
        "          \"NM\", \"NY\", \"NC\", \"ND\", \"OH\", \"OK\", \"OR\", \"PA\", \"RI\", \"SC\", \n",
        "          \"SD\", \"TN\", \"TX\", \"UT\", \"VT\", \"VA\", \"WA\", \"WV\", \"WI\", \"WY\"]\n",
        "\n",
        "selection = df_ovnis['State'].isin(states)\n",
        "df_ovnis = df_ovnis[selection]\n",
        "\n",
        "df_ovnis"
      ],
      "execution_count": 7,
      "outputs": [
        {
          "output_type": "stream",
          "text": [
            "4. Limitar a análise aos estados dos Estados Unidos.\n"
          ],
          "name": "stdout"
        },
        {
          "output_type": "execute_result",
          "data": {
            "text/html": [
              "<div>\n",
              "<style scoped>\n",
              "    .dataframe tbody tr th:only-of-type {\n",
              "        vertical-align: middle;\n",
              "    }\n",
              "\n",
              "    .dataframe tbody tr th {\n",
              "        vertical-align: top;\n",
              "    }\n",
              "\n",
              "    .dataframe thead th {\n",
              "        text-align: right;\n",
              "    }\n",
              "</style>\n",
              "<table border=\"1\" class=\"dataframe\">\n",
              "  <thead>\n",
              "    <tr style=\"text-align: right;\">\n",
              "      <th></th>\n",
              "      <th>Date / Time</th>\n",
              "      <th>City</th>\n",
              "      <th>State</th>\n",
              "      <th>Shape</th>\n",
              "      <th>Duration</th>\n",
              "      <th>Summary</th>\n",
              "      <th>Posted</th>\n",
              "    </tr>\n",
              "  </thead>\n",
              "  <tbody>\n",
              "    <tr>\n",
              "      <th>1</th>\n",
              "      <td>9/22/97 20:00</td>\n",
              "      <td>Solomons Island</td>\n",
              "      <td>MD</td>\n",
              "      <td>Disk</td>\n",
              "      <td>10 minutes</td>\n",
              "      <td>Close up at twilight,  Stationary UFO.</td>\n",
              "      <td>8/5/09</td>\n",
              "    </tr>\n",
              "    <tr>\n",
              "      <th>2</th>\n",
              "      <td>9/19/97</td>\n",
              "      <td>Garden Grove</td>\n",
              "      <td>CA</td>\n",
              "      <td>Rectangle</td>\n",
              "      <td>4 mins.</td>\n",
              "      <td>Around 6:30 PM I was walking through a Vons Pa...</td>\n",
              "      <td>12/1/19</td>\n",
              "    </tr>\n",
              "    <tr>\n",
              "      <th>3</th>\n",
              "      <td>9/18/97 20:15</td>\n",
              "      <td>Panama City</td>\n",
              "      <td>FL</td>\n",
              "      <td>Unknown</td>\n",
              "      <td>30 seconds</td>\n",
              "      <td>Looked like stars in the sky so far up/moveing...</td>\n",
              "      <td>3/13/12</td>\n",
              "    </tr>\n",
              "    <tr>\n",
              "      <th>4</th>\n",
              "      <td>9/15/97 00:00</td>\n",
              "      <td>Houston</td>\n",
              "      <td>TX</td>\n",
              "      <td>Disk</td>\n",
              "      <td>5 minutes</td>\n",
              "      <td>Beautiful silver-colored flying saucer about t...</td>\n",
              "      <td>7/19/10</td>\n",
              "    </tr>\n",
              "    <tr>\n",
              "      <th>5</th>\n",
              "      <td>9/15/97 20:00</td>\n",
              "      <td>Santa Fe</td>\n",
              "      <td>NM</td>\n",
              "      <td>Light</td>\n",
              "      <td>2-3 minutes</td>\n",
              "      <td>Saw white dot of light moving in zig-zag motio...</td>\n",
              "      <td>11/9/17</td>\n",
              "    </tr>\n",
              "    <tr>\n",
              "      <th>...</th>\n",
              "      <td>...</td>\n",
              "      <td>...</td>\n",
              "      <td>...</td>\n",
              "      <td>...</td>\n",
              "      <td>...</td>\n",
              "      <td>...</td>\n",
              "      <td>...</td>\n",
              "    </tr>\n",
              "    <tr>\n",
              "      <th>71896</th>\n",
              "      <td>8/1/17 02:45</td>\n",
              "      <td>Corcoran</td>\n",
              "      <td>MN</td>\n",
              "      <td>Light</td>\n",
              "      <td>Still going</td>\n",
              "      <td>Small light south west of Minneapolis maneuver...</td>\n",
              "      <td>8/4/17</td>\n",
              "    </tr>\n",
              "    <tr>\n",
              "      <th>71897</th>\n",
              "      <td>8/1/17 02:00</td>\n",
              "      <td>Moreno Valley</td>\n",
              "      <td>CA</td>\n",
              "      <td>Other</td>\n",
              "      <td>10 seconds</td>\n",
              "      <td>I was looking out the front windshield and loo...</td>\n",
              "      <td>8/4/17</td>\n",
              "    </tr>\n",
              "    <tr>\n",
              "      <th>71898</th>\n",
              "      <td>8/1/17 01:00</td>\n",
              "      <td>Bradenton</td>\n",
              "      <td>FL</td>\n",
              "      <td>Other</td>\n",
              "      <td>&lt;20 seconds</td>\n",
              "      <td>I was walking my dog about 1am on August 1, 20...</td>\n",
              "      <td>5/9/19</td>\n",
              "    </tr>\n",
              "    <tr>\n",
              "      <th>71899</th>\n",
              "      <td>8/1/17 00:00</td>\n",
              "      <td>Springdale</td>\n",
              "      <td>AR</td>\n",
              "      <td>NaN</td>\n",
              "      <td>1 hour</td>\n",
              "      <td>Glowing flying people . seven of them flying l...</td>\n",
              "      <td>2/13/20</td>\n",
              "    </tr>\n",
              "    <tr>\n",
              "      <th>71900</th>\n",
              "      <td>8/1/17</td>\n",
              "      <td>Laurel</td>\n",
              "      <td>MD</td>\n",
              "      <td>Other</td>\n",
              "      <td>NaN</td>\n",
              "      <td>It was an alien project level 1 federal ran on...</td>\n",
              "      <td>6/25/20</td>\n",
              "    </tr>\n",
              "  </tbody>\n",
              "</table>\n",
              "<p>64972 rows × 7 columns</p>\n",
              "</div>"
            ],
            "text/plain": [
              "         Date / Time  ...   Posted\n",
              "1      9/22/97 20:00  ...   8/5/09\n",
              "2            9/19/97  ...  12/1/19\n",
              "3      9/18/97 20:15  ...  3/13/12\n",
              "4      9/15/97 00:00  ...  7/19/10\n",
              "5      9/15/97 20:00  ...  11/9/17\n",
              "...              ...  ...      ...\n",
              "71896   8/1/17 02:45  ...   8/4/17\n",
              "71897   8/1/17 02:00  ...   8/4/17\n",
              "71898   8/1/17 01:00  ...   5/9/19\n",
              "71899   8/1/17 00:00  ...  2/13/20\n",
              "71900         8/1/17  ...  6/25/20\n",
              "\n",
              "[64972 rows x 7 columns]"
            ]
          },
          "metadata": {
            "tags": []
          },
          "execution_count": 7
        }
      ]
    },
    {
      "cell_type": "code",
      "metadata": {
        "id": "C1DDFoCG89_W",
        "colab_type": "code",
        "colab": {
          "base_uri": "https://localhost:8080/",
          "height": 255
        },
        "outputId": "fed899fe-b50f-4eab-fd5e-f4ceac93a6a9"
      },
      "source": [
        "print(\"5. Consulta por cidades, com o objetivo de saber quais contêm o maior número de relatos (cidades que apresentem ao menos 10 relatos).\")\n",
        "\n",
        "#Usa a funcao groupby() pra agrupar por estado, a funcao count() para contar e a funcao sort_values() para ordenar de forma decrescente\n",
        "cidades = df_ovnis\n",
        "cidades = cidades.groupby('City').count()\n",
        "cidades = cidades.sort_values(ascending=False, by=\"Posted\")\n",
        "cidades = cidades.query('Posted >= 10')['Posted']\n",
        "cidades"
      ],
      "execution_count": null,
      "outputs": [
        {
          "output_type": "stream",
          "text": [
            "5. Consulta por cidades, com o objetivo de saber quais contêm o maior número de relatos (cidades que apresentem ao menos 10 relatos).\n"
          ],
          "name": "stdout"
        },
        {
          "output_type": "execute_result",
          "data": {
            "text/plain": [
              "City\n",
              "Phoenix        366\n",
              "Las Vegas      339\n",
              "Seattle        324\n",
              "Portland       318\n",
              "San Diego      273\n",
              "              ... \n",
              "Centreville     10\n",
              "Hamden          10\n",
              "San Dimas       10\n",
              "La Grande       10\n",
              "Riverhead       10\n",
              "Name: Posted, Length: 1490, dtype: int64"
            ]
          },
          "metadata": {
            "tags": []
          },
          "execution_count": 211
        }
      ]
    },
    {
      "cell_type": "code",
      "metadata": {
        "id": "kShdtwmv7Hvu",
        "colab_type": "code",
        "colab": {
          "base_uri": "https://localhost:8080/",
          "height": 51
        },
        "outputId": "bc288f27-662b-48bb-cbd6-ed2c229ee2d1"
      },
      "source": [
        "print(\"6. Com o dado anterior, responder a seguinte pergunta: por que será que essa é a cidade que possui mais relatos?\")\n",
        "print(\"Porque é a cidade onde fica mais afastada de grandes metrópoles, construída no local de antigos canais indigenas\")"
      ],
      "execution_count": null,
      "outputs": [
        {
          "output_type": "stream",
          "text": [
            "6. Com o dado anterior, responder a seguinte pergunta: por que será que essa é a cidade que possui mais relatos?\n",
            "Porque é a cidade onde fica mais afastada de grandes metrópoles, construída no local de antigos canais indigenas\n"
          ],
          "name": "stdout"
        }
      ]
    },
    {
      "cell_type": "code",
      "metadata": {
        "id": "V4-YcfGxOUpS",
        "colab_type": "code",
        "colab": {
          "base_uri": "https://localhost:8080/",
          "height": 456
        },
        "outputId": "710171b9-0ab1-415e-fdc4-d3de8e0667ad"
      },
      "source": [
        "print(\"7. Fazer uma query exclusiva para o estado com maior número de relatos, buscando cidades que possuam um número superior a 10 relatórios. Enfatizar a cidade, a quantidade de relatos e formato do objeto não identificado.\")\n",
        "\n",
        "california = df_ovnis[df_ovnis['State']=='CA']\n",
        "\n",
        "COLUNAS = [\n",
        "    'City',\n",
        "    'Shape',\n",
        "    'Quantidade'\n",
        "]\n",
        "\n",
        "df_final = pd.DataFrame(columns=COLUNAS)\n",
        "df_final['City'] = california['City']\n",
        "df_final['Shape'] = california['Shape']\n",
        "df_final['Quantidade'] = california.groupby('City')['City'].transform('count')\n",
        "\n",
        "#gera arquivo .csv\n",
        "df_final.to_csv(\"ovnis_maiores_relatos.csv\")\n",
        "\n",
        "df_final"
      ],
      "execution_count": 8,
      "outputs": [
        {
          "output_type": "stream",
          "text": [
            "7. Fazer uma query exclusiva para o estado com maior número de relatos, buscando cidades que possuam um número superior a 10 relatórios. Enfatizar a cidade, a quantidade de relatos e formato do objeto não identificado.\n"
          ],
          "name": "stdout"
        },
        {
          "output_type": "execute_result",
          "data": {
            "text/html": [
              "<div>\n",
              "<style scoped>\n",
              "    .dataframe tbody tr th:only-of-type {\n",
              "        vertical-align: middle;\n",
              "    }\n",
              "\n",
              "    .dataframe tbody tr th {\n",
              "        vertical-align: top;\n",
              "    }\n",
              "\n",
              "    .dataframe thead th {\n",
              "        text-align: right;\n",
              "    }\n",
              "</style>\n",
              "<table border=\"1\" class=\"dataframe\">\n",
              "  <thead>\n",
              "    <tr style=\"text-align: right;\">\n",
              "      <th></th>\n",
              "      <th>City</th>\n",
              "      <th>Shape</th>\n",
              "      <th>Quantidade</th>\n",
              "    </tr>\n",
              "  </thead>\n",
              "  <tbody>\n",
              "    <tr>\n",
              "      <th>2</th>\n",
              "      <td>Garden Grove</td>\n",
              "      <td>Rectangle</td>\n",
              "      <td>29.0</td>\n",
              "    </tr>\n",
              "    <tr>\n",
              "      <th>11</th>\n",
              "      <td>Carlsbad</td>\n",
              "      <td>Light</td>\n",
              "      <td>39.0</td>\n",
              "    </tr>\n",
              "    <tr>\n",
              "      <th>13</th>\n",
              "      <td>Milford</td>\n",
              "      <td>Disk</td>\n",
              "      <td>2.0</td>\n",
              "    </tr>\n",
              "    <tr>\n",
              "      <th>19</th>\n",
              "      <td>Daggett</td>\n",
              "      <td>Rectangle</td>\n",
              "      <td>1.0</td>\n",
              "    </tr>\n",
              "    <tr>\n",
              "      <th>35</th>\n",
              "      <td>El Centro</td>\n",
              "      <td>Oval</td>\n",
              "      <td>14.0</td>\n",
              "    </tr>\n",
              "    <tr>\n",
              "      <th>...</th>\n",
              "      <td>...</td>\n",
              "      <td>...</td>\n",
              "      <td>...</td>\n",
              "    </tr>\n",
              "    <tr>\n",
              "      <th>71852</th>\n",
              "      <td>Indio</td>\n",
              "      <td>Sphere</td>\n",
              "      <td>24.0</td>\n",
              "    </tr>\n",
              "    <tr>\n",
              "      <th>71873</th>\n",
              "      <td>San Bernardino</td>\n",
              "      <td>Flash</td>\n",
              "      <td>39.0</td>\n",
              "    </tr>\n",
              "    <tr>\n",
              "      <th>71879</th>\n",
              "      <td>Sun Valley</td>\n",
              "      <td>Sphere</td>\n",
              "      <td>6.0</td>\n",
              "    </tr>\n",
              "    <tr>\n",
              "      <th>71892</th>\n",
              "      <td>Newhall</td>\n",
              "      <td>Teardrop</td>\n",
              "      <td>5.0</td>\n",
              "    </tr>\n",
              "    <tr>\n",
              "      <th>71897</th>\n",
              "      <td>Moreno Valley</td>\n",
              "      <td>Other</td>\n",
              "      <td>25.0</td>\n",
              "    </tr>\n",
              "  </tbody>\n",
              "</table>\n",
              "<p>7911 rows × 3 columns</p>\n",
              "</div>"
            ],
            "text/plain": [
              "                 City      Shape  Quantidade\n",
              "2        Garden Grove  Rectangle        29.0\n",
              "11           Carlsbad      Light        39.0\n",
              "13            Milford       Disk         2.0\n",
              "19            Daggett  Rectangle         1.0\n",
              "35          El Centro       Oval        14.0\n",
              "...               ...        ...         ...\n",
              "71852           Indio     Sphere        24.0\n",
              "71873  San Bernardino      Flash        39.0\n",
              "71879      Sun Valley     Sphere         6.0\n",
              "71892         Newhall   Teardrop         5.0\n",
              "71897   Moreno Valley      Other        25.0\n",
              "\n",
              "[7911 rows x 3 columns]"
            ]
          },
          "metadata": {
            "tags": []
          },
          "execution_count": 8
        }
      ]
    }
  ]
}