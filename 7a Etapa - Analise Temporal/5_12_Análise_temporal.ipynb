{
  "nbformat": 4,
  "nbformat_minor": 0,
  "metadata": {
    "colab": {
      "name": "5_12_análise_temporal_.ipynb",
      "provenance": [],
      "collapsed_sections": []
    },
    "kernelspec": {
      "name": "python3",
      "display_name": "Python 3"
    }
  },
  "cells": [
    {
      "cell_type": "markdown",
      "metadata": {
        "id": "4Y8_vR3It74H"
      },
      "source": [
        "Ordenar as observações de forma ascendente temporalmente (da observação mais antiga para a observação mais recente)."
      ]
    },
    {
      "cell_type": "code",
      "metadata": {
        "id": "2Gosgw4Himi0",
        "outputId": "6851c7b2-bbfd-4aa3-bc2c-e147a08b4db8",
        "colab": {
          "base_uri": "https://localhost:8080/",
          "height": 419
        }
      },
      "source": [
        "import pandas as pd\n",
        "import matplotlib.pyplot as plt\n",
        "import numpy as np\n",
        "\n",
        "#Ordenar as observações de forma ascendente temporalmente (da observação mais antiga para a observação mais recente).\n",
        "df_ovnis = pd.read_csv(\"df_OVNI_preparado.csv\", index_col=[0])\n",
        "\n",
        "#Cria um novo dataframe com os dados da cidade de Phoenix\n",
        "df_ovnis = df_ovnis[df_ovnis['City']=='Phoenix']\n",
        "\n",
        "#agrupa por data\n",
        "df_views = df_ovnis\n",
        "df_views['Views'] = df_views.groupby('Sight_Date')['Sight_Date'].transform('count')\n",
        "\n",
        "#Excluir as colunas cujo os dados não são necessários\n",
        "df_views = df_views.drop(columns=[\"Sight_Month\"])\n",
        "df_views = df_views.drop(columns=[\"Sight_Day\"])\n",
        "df_views = df_views.drop(columns=[\"Sight_Weekday\"])\n",
        "df_views = df_views.drop(columns=[\"Shape\"])\n",
        "df_views = df_views.drop(columns=[\"State\"])\n",
        "df_views = df_views.drop(columns=[\"City\"])\n",
        "df_views = df_views.drop(columns=[\"Sight_Time\"])\n",
        "df_views.sort_values(by='Sight_Date')"
      ],
      "execution_count": null,
      "outputs": [
        {
          "output_type": "execute_result",
          "data": {
            "text/html": [
              "<div>\n",
              "<style scoped>\n",
              "    .dataframe tbody tr th:only-of-type {\n",
              "        vertical-align: middle;\n",
              "    }\n",
              "\n",
              "    .dataframe tbody tr th {\n",
              "        vertical-align: top;\n",
              "    }\n",
              "\n",
              "    .dataframe thead th {\n",
              "        text-align: right;\n",
              "    }\n",
              "</style>\n",
              "<table border=\"1\" class=\"dataframe\">\n",
              "  <thead>\n",
              "    <tr style=\"text-align: right;\">\n",
              "      <th></th>\n",
              "      <th>Sight_Date</th>\n",
              "      <th>Views</th>\n",
              "    </tr>\n",
              "  </thead>\n",
              "  <tbody>\n",
              "    <tr>\n",
              "      <th>335</th>\n",
              "      <td>1999-06-12</td>\n",
              "      <td>1</td>\n",
              "    </tr>\n",
              "    <tr>\n",
              "      <th>970</th>\n",
              "      <td>2001-11-12</td>\n",
              "      <td>1</td>\n",
              "    </tr>\n",
              "    <tr>\n",
              "      <th>1249</th>\n",
              "      <td>2003-05-31</td>\n",
              "      <td>1</td>\n",
              "    </tr>\n",
              "    <tr>\n",
              "      <th>1781</th>\n",
              "      <td>2005-02-21</td>\n",
              "      <td>1</td>\n",
              "    </tr>\n",
              "    <tr>\n",
              "      <th>1793</th>\n",
              "      <td>2005-03-20</td>\n",
              "      <td>1</td>\n",
              "    </tr>\n",
              "    <tr>\n",
              "      <th>...</th>\n",
              "      <td>...</td>\n",
              "      <td>...</td>\n",
              "    </tr>\n",
              "    <tr>\n",
              "      <th>70762</th>\n",
              "      <td>2017-06-15</td>\n",
              "      <td>2</td>\n",
              "    </tr>\n",
              "    <tr>\n",
              "      <th>71348</th>\n",
              "      <td>2017-07-06</td>\n",
              "      <td>1</td>\n",
              "    </tr>\n",
              "    <tr>\n",
              "      <th>71057</th>\n",
              "      <td>2017-07-26</td>\n",
              "      <td>1</td>\n",
              "    </tr>\n",
              "    <tr>\n",
              "      <th>71857</th>\n",
              "      <td>2017-08-04</td>\n",
              "      <td>1</td>\n",
              "    </tr>\n",
              "    <tr>\n",
              "      <th>71716</th>\n",
              "      <td>2017-08-14</td>\n",
              "      <td>1</td>\n",
              "    </tr>\n",
              "  </tbody>\n",
              "</table>\n",
              "<p>305 rows × 2 columns</p>\n",
              "</div>"
            ],
            "text/plain": [
              "       Sight_Date  Views\n",
              "335    1999-06-12      1\n",
              "970    2001-11-12      1\n",
              "1249   2003-05-31      1\n",
              "1781   2005-02-21      1\n",
              "1793   2005-03-20      1\n",
              "...           ...    ...\n",
              "70762  2017-06-15      2\n",
              "71348  2017-07-06      1\n",
              "71057  2017-07-26      1\n",
              "71857  2017-08-04      1\n",
              "71716  2017-08-14      1\n",
              "\n",
              "[305 rows x 2 columns]"
            ]
          },
          "metadata": {
            "tags": []
          },
          "execution_count": 1
        }
      ]
    },
    {
      "cell_type": "markdown",
      "metadata": {
        "id": "oetwjuz4uJ9C"
      },
      "source": [
        "Observar o gráfico em barras da série temporal para o ano x de forma a investigar como se comporta a distribuição das visualizações.\n",
        "Exemplo com o ano de 2017"
      ]
    },
    {
      "cell_type": "code",
      "metadata": {
        "id": "lkMkNAUVMHXq",
        "outputId": "f5e6bbb5-50c7-41c4-fc82-1cfe95fc7227",
        "colab": {
          "base_uri": "https://localhost:8080/",
          "height": 397
        }
      },
      "source": [
        "#Atribui o daframe a uma outro para manipulção mais livre\n",
        "df_mes = df_ovnis\n",
        "#Define o ano que quer ser visto no grafico\n",
        "ano = 2017\n",
        "\n",
        "#Transforma a coluna 'Sight_Date' em formato de data para separar o ano\n",
        "df_mes['Sight_Date'] = pd.to_datetime(df_mes['Sight_Date'])\n",
        "#Separa o ano em uma coluna propria\n",
        "df_mes['Sight_Year'] = df_mes['Sight_Date'].dt.strftime('%Y')\n",
        "#transforma o ano em string\n",
        "df_mes = df_mes[df_ovnis['Sight_Year'] == str(ano)]\n",
        "#Conta quantas visualizacoes cada mes tem\n",
        "df_mes[\"Views\"] = df_mes.groupby('Sight_Month')['Sight_Month'].transform('count')\n",
        "\n",
        "#cria um vetor com todos os meses do ano\n",
        "mes = [1, 2, 3, 4, 5, 6, 7, 8, 9, 10, 11, 12]\n",
        "#cria um vetor vazio que tera as views de cada mes\n",
        "views = []\n",
        "\n",
        "#no primeiro for ele vai rodar todos os 12 meses\n",
        "for j in mes:\n",
        "  #flag para nao duplicar o numero de views de meses repetidos\n",
        "  flag = 0\n",
        "  #segundo for que ira interar linha por linha do dataframe\n",
        "  for i in df_mes.itertuples():\n",
        "    if(df_mes.Sight_Month[i.Index] == j and flag == 0):\n",
        "      #atribui o numero do mes correspondente (representado pelo j)\n",
        "      views.append(df_mes.Views[i.Index])\n",
        "      flag = 1\n",
        "\n",
        "#preenche os meses cujo n tiveram observacoes registradas com o valor zero\n",
        "if(len(views) < 12):\n",
        "  meses_sem_views = 12 - len(views)\n",
        "  for i in range(meses_sem_views):\n",
        "    views.append(0)\n",
        "\n",
        "#----PLOTANDO O GRAFICO-----\n",
        "\n",
        "#cria distancia entre as barras\n",
        "x1 =  np.arange(len(views))\n",
        "\n",
        "# Plota as barras\n",
        "plt.bar(x1, views, width=0.5, label = 'Produto A')\n",
        "\n",
        "# coloca o nome dos meses como label do eixo x\n",
        "plt.xticks([x for x in range(len(views))], mes)\n",
        "\n",
        "plt.title(\"Ano de \"+ str(ano))\n",
        "plt.xlabel('Month')\n",
        "plt.ylabel('Views')\n",
        "plt.show()"
      ],
      "execution_count": null,
      "outputs": [
        {
          "output_type": "stream",
          "text": [
            "/usr/local/lib/python3.6/dist-packages/ipykernel_launcher.py:13: SettingWithCopyWarning: \n",
            "A value is trying to be set on a copy of a slice from a DataFrame.\n",
            "Try using .loc[row_indexer,col_indexer] = value instead\n",
            "\n",
            "See the caveats in the documentation: https://pandas.pydata.org/pandas-docs/stable/user_guide/indexing.html#returning-a-view-versus-a-copy\n",
            "  del sys.path[0]\n"
          ],
          "name": "stderr"
        },
        {
          "output_type": "display_data",
          "data": {
            "image/png": "[encoded data removed]",
            "text/plain": [
              "<Figure size 432x288 with 1 Axes>"
            ]
          },
          "metadata": {
            "tags": [],
            "needs_background": "light"
          }
        }
      ]
    },
    {
      "cell_type": "markdown",
      "metadata": {
        "id": "R9sO_NyguMyy"
      },
      "source": [
        "Observar o gráfico de linha da evolução do número de observações ao longo do tempo (anos)."
      ]
    },
    {
      "cell_type": "code",
      "metadata": {
        "id": "J_kCmUa8Y-eE",
        "outputId": "940794f2-6bb6-4087-eda6-7f83e80b0895",
        "colab": {
          "base_uri": "https://localhost:8080/",
          "height": 310
        }
      },
      "source": [
        "#Atribui o daframe a uma outro para manipulção mais livre#Atribui o daframe a uma outro para manipulção mais livre\n",
        "df_anos = df_ovnis\n",
        "\n",
        "#Array vazio que tera os anos de 1997 a 2017\n",
        "anos = []\n",
        "#Array vazio que tera as views correspondennte ao periodo pedido\n",
        "views = []\n",
        "#Anos que aparecerao no grafico\n",
        "anos_grafico = []\n",
        "\n",
        "#Transforma a coluna 'Sight_Date' em formato de data para separar o ano\n",
        "df_anos['Sight_Date'] = pd.to_datetime(df_anos['Sight_Date'])\n",
        "#Separa o ano em uma coluna propria\n",
        "df_anos['Sight_Year'] = df_anos['Sight_Date'].dt.strftime('%Y')\n",
        "#Conta quantas visualizacoes cada ano tem\n",
        "df_anos[\"Views\"] = df_anos.groupby('Sight_Year')['Sight_Year'].transform('count')\n",
        "\n",
        "#intera os anos de 1997 a 2017 no array 'anos'\n",
        "for i in range(1997, 2018):\n",
        "  anos.append(i)\n",
        "\n",
        "#no primeiro for ele vai rodar todos os os anos que o array rececbeu\n",
        "for j in anos:\n",
        "  #flag para nao duplicar o numero de views de anos repetidos\n",
        "  flag = 0\n",
        "  #segundo for que ira interar linha por linha do dataframe\n",
        "  for i in df_anos.itertuples():\n",
        "    if(df_anos.Sight_Year[i.Index] == str(j) and flag == 0):\n",
        "      #atribui o ano correspondente a view adicionada\n",
        "      anos_grafico.append(str(j))\n",
        "      #atribui o numero do ano correspondente (representado pelo j)\n",
        "      views.append(df_anos.Views[i.Index])\n",
        "      flag = 1\n",
        "\n",
        "#Atribui o 'anos_grafico' como anos do eixo x e as views no eixo y\n",
        "plt.plot(anos_grafico, views)\n",
        "plt.xlabel('Year')\n",
        "plt.ylabel('Views')\n",
        "plt.title(\"Evolução de Obervações da Cidade de Phoenix ao Longo dos Anos de 1997 a 2017\")\n",
        "plt.xticks(rotation=45)\n",
        "\n",
        "plt.show()"
      ],
      "execution_count": null,
      "outputs": [
        {
          "output_type": "display_data",
          "data": {
            "image/png": "[encoded data removed]",
            "text/plain": [
              "<Figure size 432x288 with 1 Axes>"
            ]
          },
          "metadata": {
            "tags": [],
            "needs_background": "light"
          }
        }
      ]
    },
    {
      "cell_type": "markdown",
      "metadata": {
        "id": "AxEQNZV2GF15"
      },
      "source": [
        "Separar 70% das observações para treinamento e 30% das observações para teste (como se trata de uma informação temporal, não podemos pegar uma amostra aleatória, sugestão: calcular o índice que corresponde a 70% das observações e considerar da primeira amostra até ele para treinamento; e do índice seguinte até o final para teste)."
      ]
    },
    {
      "cell_type": "code",
      "metadata": {
        "id": "S2zTECC14PHR",
        "outputId": "655d159a-3c95-4d41-9f42-df38908da41c",
        "colab": {
          "base_uri": "https://localhost:8080/",
          "height": 450
        }
      },
      "source": [
        "# Transforma o 'Sight_date' de df_views em tipo Date. \n",
        "df_views['Sight_Date'] = pd.to_datetime(df_views['Sight_Date'])\n",
        "# Definimos o 'Sight_Date' como o index para ficar saltado no Dataframe.\n",
        "df_views.set_index('Sight_Date', inplace = True)\n",
        "df_views"
      ],
      "execution_count": null,
      "outputs": [
        {
          "output_type": "execute_result",
          "data": {
            "text/html": [
              "<div>\n",
              "<style scoped>\n",
              "    .dataframe tbody tr th:only-of-type {\n",
              "        vertical-align: middle;\n",
              "    }\n",
              "\n",
              "    .dataframe tbody tr th {\n",
              "        vertical-align: top;\n",
              "    }\n",
              "\n",
              "    .dataframe thead th {\n",
              "        text-align: right;\n",
              "    }\n",
              "</style>\n",
              "<table border=\"1\" class=\"dataframe\">\n",
              "  <thead>\n",
              "    <tr style=\"text-align: right;\">\n",
              "      <th></th>\n",
              "      <th>Views</th>\n",
              "    </tr>\n",
              "    <tr>\n",
              "      <th>Sight_Date</th>\n",
              "      <th></th>\n",
              "    </tr>\n",
              "  </thead>\n",
              "  <tbody>\n",
              "    <tr>\n",
              "      <th>1999-06-12</th>\n",
              "      <td>1</td>\n",
              "    </tr>\n",
              "    <tr>\n",
              "      <th>2001-11-12</th>\n",
              "      <td>1</td>\n",
              "    </tr>\n",
              "    <tr>\n",
              "      <th>2003-05-31</th>\n",
              "      <td>1</td>\n",
              "    </tr>\n",
              "    <tr>\n",
              "      <th>2005-02-21</th>\n",
              "      <td>1</td>\n",
              "    </tr>\n",
              "    <tr>\n",
              "      <th>2005-03-20</th>\n",
              "      <td>1</td>\n",
              "    </tr>\n",
              "    <tr>\n",
              "      <th>...</th>\n",
              "      <td>...</td>\n",
              "    </tr>\n",
              "    <tr>\n",
              "      <th>2017-06-07</th>\n",
              "      <td>1</td>\n",
              "    </tr>\n",
              "    <tr>\n",
              "      <th>2017-07-26</th>\n",
              "      <td>1</td>\n",
              "    </tr>\n",
              "    <tr>\n",
              "      <th>2017-07-06</th>\n",
              "      <td>1</td>\n",
              "    </tr>\n",
              "    <tr>\n",
              "      <th>2017-08-14</th>\n",
              "      <td>1</td>\n",
              "    </tr>\n",
              "    <tr>\n",
              "      <th>2017-08-04</th>\n",
              "      <td>1</td>\n",
              "    </tr>\n",
              "  </tbody>\n",
              "</table>\n",
              "<p>305 rows × 1 columns</p>\n",
              "</div>"
            ],
            "text/plain": [
              "            Views\n",
              "Sight_Date       \n",
              "1999-06-12      1\n",
              "2001-11-12      1\n",
              "2003-05-31      1\n",
              "2005-02-21      1\n",
              "2005-03-20      1\n",
              "...           ...\n",
              "2017-06-07      1\n",
              "2017-07-26      1\n",
              "2017-07-06      1\n",
              "2017-08-14      1\n",
              "2017-08-04      1\n",
              "\n",
              "[305 rows x 1 columns]"
            ]
          },
          "metadata": {
            "tags": []
          },
          "execution_count": 4
        }
      ]
    },
    {
      "cell_type": "code",
      "metadata": {
        "id": "k9XP9xh64tOS",
        "outputId": "019ec7b7-27dd-492b-af60-bb736206160d",
        "colab": {
          "base_uri": "https://localhost:8080/",
          "height": 235
        }
      },
      "source": [
        "df_views.head()"
      ],
      "execution_count": null,
      "outputs": [
        {
          "output_type": "execute_result",
          "data": {
            "text/html": [
              "<div>\n",
              "<style scoped>\n",
              "    .dataframe tbody tr th:only-of-type {\n",
              "        vertical-align: middle;\n",
              "    }\n",
              "\n",
              "    .dataframe tbody tr th {\n",
              "        vertical-align: top;\n",
              "    }\n",
              "\n",
              "    .dataframe thead th {\n",
              "        text-align: right;\n",
              "    }\n",
              "</style>\n",
              "<table border=\"1\" class=\"dataframe\">\n",
              "  <thead>\n",
              "    <tr style=\"text-align: right;\">\n",
              "      <th></th>\n",
              "      <th>Views</th>\n",
              "    </tr>\n",
              "    <tr>\n",
              "      <th>Sight_Date</th>\n",
              "      <th></th>\n",
              "    </tr>\n",
              "  </thead>\n",
              "  <tbody>\n",
              "    <tr>\n",
              "      <th>1999-06-12</th>\n",
              "      <td>1</td>\n",
              "    </tr>\n",
              "    <tr>\n",
              "      <th>2001-11-12</th>\n",
              "      <td>1</td>\n",
              "    </tr>\n",
              "    <tr>\n",
              "      <th>2003-05-31</th>\n",
              "      <td>1</td>\n",
              "    </tr>\n",
              "    <tr>\n",
              "      <th>2005-02-21</th>\n",
              "      <td>1</td>\n",
              "    </tr>\n",
              "    <tr>\n",
              "      <th>2005-03-20</th>\n",
              "      <td>1</td>\n",
              "    </tr>\n",
              "  </tbody>\n",
              "</table>\n",
              "</div>"
            ],
            "text/plain": [
              "            Views\n",
              "Sight_Date       \n",
              "1999-06-12      1\n",
              "2001-11-12      1\n",
              "2003-05-31      1\n",
              "2005-02-21      1\n",
              "2005-03-20      1"
            ]
          },
          "metadata": {
            "tags": []
          },
          "execution_count": 5
        }
      ]
    },
    {
      "cell_type": "code",
      "metadata": {
        "id": "HOCrw5l97joW"
      },
      "source": [
        "# Isso separa os conjunto df_views no conjunto de treinamento (df_train) e no conjunto de teste (df_test).\n",
        "# O conjunto df_train possui 70% dos dados do conjunto df_views, enquanto o df_test possui 30% dos dados.\n",
        "df_train, df_test = df_views.iloc[:213, :], df_views.iloc[213:, :]"
      ],
      "execution_count": null,
      "outputs": []
    },
    {
      "cell_type": "code",
      "metadata": {
        "id": "EiS9Bvt676zq",
        "outputId": "8be9e85b-8ea9-4d9a-f3b6-d2c717b777bb",
        "colab": {
          "base_uri": "https://localhost:8080/"
        }
      },
      "source": [
        "df_train.shape"
      ],
      "execution_count": null,
      "outputs": [
        {
          "output_type": "execute_result",
          "data": {
            "text/plain": [
              "(213, 1)"
            ]
          },
          "metadata": {
            "tags": []
          },
          "execution_count": 7
        }
      ]
    },
    {
      "cell_type": "code",
      "metadata": {
        "id": "B2GMJgmhARzt",
        "outputId": "4a3ea9e1-d0bd-46f9-98ab-6866c66a4892",
        "colab": {
          "base_uri": "https://localhost:8080/",
          "height": 235
        }
      },
      "source": [
        "df_train.head()"
      ],
      "execution_count": null,
      "outputs": [
        {
          "output_type": "execute_result",
          "data": {
            "text/html": [
              "<div>\n",
              "<style scoped>\n",
              "    .dataframe tbody tr th:only-of-type {\n",
              "        vertical-align: middle;\n",
              "    }\n",
              "\n",
              "    .dataframe tbody tr th {\n",
              "        vertical-align: top;\n",
              "    }\n",
              "\n",
              "    .dataframe thead th {\n",
              "        text-align: right;\n",
              "    }\n",
              "</style>\n",
              "<table border=\"1\" class=\"dataframe\">\n",
              "  <thead>\n",
              "    <tr style=\"text-align: right;\">\n",
              "      <th></th>\n",
              "      <th>Views</th>\n",
              "    </tr>\n",
              "    <tr>\n",
              "      <th>Sight_Date</th>\n",
              "      <th></th>\n",
              "    </tr>\n",
              "  </thead>\n",
              "  <tbody>\n",
              "    <tr>\n",
              "      <th>1999-06-12</th>\n",
              "      <td>1</td>\n",
              "    </tr>\n",
              "    <tr>\n",
              "      <th>2001-11-12</th>\n",
              "      <td>1</td>\n",
              "    </tr>\n",
              "    <tr>\n",
              "      <th>2003-05-31</th>\n",
              "      <td>1</td>\n",
              "    </tr>\n",
              "    <tr>\n",
              "      <th>2005-02-21</th>\n",
              "      <td>1</td>\n",
              "    </tr>\n",
              "    <tr>\n",
              "      <th>2005-03-20</th>\n",
              "      <td>1</td>\n",
              "    </tr>\n",
              "  </tbody>\n",
              "</table>\n",
              "</div>"
            ],
            "text/plain": [
              "            Views\n",
              "Sight_Date       \n",
              "1999-06-12      1\n",
              "2001-11-12      1\n",
              "2003-05-31      1\n",
              "2005-02-21      1\n",
              "2005-03-20      1"
            ]
          },
          "metadata": {
            "tags": []
          },
          "execution_count": 8
        }
      ]
    },
    {
      "cell_type": "code",
      "metadata": {
        "id": "3lQ5dSbr8c-a",
        "outputId": "477f1916-a4e0-4c78-bc82-62f955d69e98",
        "colab": {
          "base_uri": "https://localhost:8080/"
        }
      },
      "source": [
        "df_test.shape"
      ],
      "execution_count": null,
      "outputs": [
        {
          "output_type": "execute_result",
          "data": {
            "text/plain": [
              "(92, 1)"
            ]
          },
          "metadata": {
            "tags": []
          },
          "execution_count": 9
        }
      ]
    },
    {
      "cell_type": "code",
      "metadata": {
        "id": "ZBZjKfM8EeLq",
        "outputId": "2fc847f9-423c-4403-b4df-7a15befad3d8",
        "colab": {
          "base_uri": "https://localhost:8080/",
          "height": 235
        }
      },
      "source": [
        "df_test.head()"
      ],
      "execution_count": null,
      "outputs": [
        {
          "output_type": "execute_result",
          "data": {
            "text/html": [
              "<div>\n",
              "<style scoped>\n",
              "    .dataframe tbody tr th:only-of-type {\n",
              "        vertical-align: middle;\n",
              "    }\n",
              "\n",
              "    .dataframe tbody tr th {\n",
              "        vertical-align: top;\n",
              "    }\n",
              "\n",
              "    .dataframe thead th {\n",
              "        text-align: right;\n",
              "    }\n",
              "</style>\n",
              "<table border=\"1\" class=\"dataframe\">\n",
              "  <thead>\n",
              "    <tr style=\"text-align: right;\">\n",
              "      <th></th>\n",
              "      <th>Views</th>\n",
              "    </tr>\n",
              "    <tr>\n",
              "      <th>Sight_Date</th>\n",
              "      <th></th>\n",
              "    </tr>\n",
              "  </thead>\n",
              "  <tbody>\n",
              "    <tr>\n",
              "      <th>2015-01-06</th>\n",
              "      <td>2</td>\n",
              "    </tr>\n",
              "    <tr>\n",
              "      <th>2015-02-18</th>\n",
              "      <td>1</td>\n",
              "    </tr>\n",
              "    <tr>\n",
              "      <th>2015-02-11</th>\n",
              "      <td>2</td>\n",
              "    </tr>\n",
              "    <tr>\n",
              "      <th>2015-02-11</th>\n",
              "      <td>2</td>\n",
              "    </tr>\n",
              "    <tr>\n",
              "      <th>2015-03-20</th>\n",
              "      <td>1</td>\n",
              "    </tr>\n",
              "  </tbody>\n",
              "</table>\n",
              "</div>"
            ],
            "text/plain": [
              "            Views\n",
              "Sight_Date       \n",
              "2015-01-06      2\n",
              "2015-02-18      1\n",
              "2015-02-11      2\n",
              "2015-02-11      2\n",
              "2015-03-20      1"
            ]
          },
          "metadata": {
            "tags": []
          },
          "execution_count": 10
        }
      ]
    },
    {
      "cell_type": "markdown",
      "metadata": {
        "id": "51peVfFhHUHQ"
      },
      "source": [
        "Utilizando o pacote statsmodels, vamos testar uma família de métodos apropriados para lidar com previsão de séries temporais chamados conjuntamente de SARIMAX (Links para um site externo.), ou seja, utilize a função SARIMAX para criar um modelo;"
      ]
    },
    {
      "cell_type": "code",
      "metadata": {
        "id": "nEolCgEXv0JQ",
        "outputId": "e022ffc0-74c2-4bd7-d06d-9f6f1e32452c",
        "colab": {
          "base_uri": "https://localhost:8080/"
        }
      },
      "source": [
        "import numpy as np\n",
        "from sklearn.model_selection import train_test_split\n",
        "\n",
        "x_train, x_test, y_train, y_test = train_test_split(df_views.drop('Views',axis=1), df_views['Views'], test_size=0.3, random_state=0, shuffle=False)\n",
        "x_train.shape, y_train.shape"
      ],
      "execution_count": null,
      "outputs": [
        {
          "output_type": "execute_result",
          "data": {
            "text/plain": [
              "((213, 0), (213,))"
            ]
          },
          "metadata": {
            "tags": []
          },
          "execution_count": 11
        }
      ]
    },
    {
      "cell_type": "code",
      "metadata": {
        "id": "GcZ8LdTAxv1d",
        "outputId": "791137d4-f967-46f1-c79b-4f82783f3f34",
        "colab": {
          "base_uri": "https://localhost:8080/"
        }
      },
      "source": [
        "from statsmodels.tsa.statespace.sarimax import SARIMAX\n",
        "% matplotlib inline\n",
        "sarimax_model = SARIMAX(df_train, order=(1,0,0))\n",
        "#sarimax_model = SARIMAX(df_ovnis['Views'], freq='MS', order=(1,1,1), seasonal_order=(1,1,1,12),exog=df_ovnis['Views']).fit(x_train, y_train)\n",
        "#sarimax_model = sm.tsa.statespace.SARIMAX(df_train, order=(1,0,0))\n",
        "#res = sarimax_model(disp=False)\n",
        "#res.summary()"
      ],
      "execution_count": null,
      "outputs": [
        {
          "output_type": "stream",
          "text": [
            "/usr/local/lib/python3.6/dist-packages/statsmodels/tools/_testing.py:19: FutureWarning: pandas.util.testing is deprecated. Use the functions in the public API at pandas.testing instead.\n",
            "  import pandas.util.testing as tm\n",
            "/usr/local/lib/python3.6/dist-packages/statsmodels/tsa/base/tsa_model.py:219: ValueWarning: A date index has been provided, but it has no associated frequency information and so will be ignored when e.g. forecasting.\n",
            "  ' ignored when e.g. forecasting.', ValueWarning)\n"
          ],
          "name": "stderr"
        }
      ]
    },
    {
      "cell_type": "code",
      "metadata": {
        "id": "FKwixH3tA_vg",
        "outputId": "65910de4-45c5-47ab-9ebd-9c51dab70ffd",
        "colab": {
          "base_uri": "https://localhost:8080/",
          "height": 402
        }
      },
      "source": [
        "res = sarimax_model.fit(disp=False)\n",
        "res.summary()"
      ],
      "execution_count": null,
      "outputs": [
        {
          "output_type": "execute_result",
          "data": {
            "text/html": [
              "<table class=\"simpletable\">\n",
              "<caption>Statespace Model Results</caption>\n",
              "<tr>\n",
              "  <th>Dep. Variable:</th>         <td>Views</td>      <th>  No. Observations:  </th>    <td>213</td>  \n",
              "</tr>\n",
              "<tr>\n",
              "  <th>Model:</th>           <td>SARIMAX(1, 0, 0)</td> <th>  Log Likelihood     </th> <td>-191.189</td>\n",
              "</tr>\n",
              "<tr>\n",
              "  <th>Date:</th>            <td>Wed, 28 Oct 2020</td> <th>  AIC                </th>  <td>386.378</td>\n",
              "</tr>\n",
              "<tr>\n",
              "  <th>Time:</th>                <td>23:36:52</td>     <th>  BIC                </th>  <td>393.101</td>\n",
              "</tr>\n",
              "<tr>\n",
              "  <th>Sample:</th>                  <td>0</td>        <th>  HQIC               </th>  <td>389.095</td>\n",
              "</tr>\n",
              "<tr>\n",
              "  <th></th>                      <td> - 213</td>      <th>                     </th>     <td> </td>   \n",
              "</tr>\n",
              "<tr>\n",
              "  <th>Covariance Type:</th>        <td>opg</td>       <th>                     </th>     <td> </td>   \n",
              "</tr>\n",
              "</table>\n",
              "<table class=\"simpletable\">\n",
              "<tr>\n",
              "     <td></td>       <th>coef</th>     <th>std err</th>      <th>z</th>      <th>P>|z|</th>  <th>[0.025</th>    <th>0.975]</th>  \n",
              "</tr>\n",
              "<tr>\n",
              "  <th>ar.L1</th>  <td>    0.9235</td> <td>    0.013</td> <td>   69.757</td> <td> 0.000</td> <td>    0.898</td> <td>    0.949</td>\n",
              "</tr>\n",
              "<tr>\n",
              "  <th>sigma2</th> <td>    0.3493</td> <td>    0.008</td> <td>   42.421</td> <td> 0.000</td> <td>    0.333</td> <td>    0.365</td>\n",
              "</tr>\n",
              "</table>\n",
              "<table class=\"simpletable\">\n",
              "<tr>\n",
              "  <th>Ljung-Box (Q):</th>          <td>48.28</td> <th>  Jarque-Bera (JB):  </th> <td>15669.28</td>\n",
              "</tr>\n",
              "<tr>\n",
              "  <th>Prob(Q):</th>                <td>0.17</td>  <th>  Prob(JB):          </th>   <td>0.00</td>  \n",
              "</tr>\n",
              "<tr>\n",
              "  <th>Heteroskedasticity (H):</th> <td>0.20</td>  <th>  Skew:              </th>   <td>0.59</td>  \n",
              "</tr>\n",
              "<tr>\n",
              "  <th>Prob(H) (two-sided):</th>    <td>0.00</td>  <th>  Kurtosis:          </th>   <td>45.00</td> \n",
              "</tr>\n",
              "</table><br/><br/>Warnings:<br/>[1] Covariance matrix calculated using the outer product of gradients (complex-step)."
            ],
            "text/plain": [
              "<class 'statsmodels.iolib.summary.Summary'>\n",
              "\"\"\"\n",
              "                           Statespace Model Results                           \n",
              "==============================================================================\n",
              "Dep. Variable:                  Views   No. Observations:                  213\n",
              "Model:               SARIMAX(1, 0, 0)   Log Likelihood                -191.189\n",
              "Date:                Wed, 28 Oct 2020   AIC                            386.378\n",
              "Time:                        23:36:52   BIC                            393.101\n",
              "Sample:                             0   HQIC                           389.095\n",
              "                                - 213                                         \n",
              "Covariance Type:                  opg                                         \n",
              "==============================================================================\n",
              "                 coef    std err          z      P>|z|      [0.025      0.975]\n",
              "------------------------------------------------------------------------------\n",
              "ar.L1          0.9235      0.013     69.757      0.000       0.898       0.949\n",
              "sigma2         0.3493      0.008     42.421      0.000       0.333       0.365\n",
              "===================================================================================\n",
              "Ljung-Box (Q):                       48.28   Jarque-Bera (JB):             15669.28\n",
              "Prob(Q):                              0.17   Prob(JB):                         0.00\n",
              "Heteroskedasticity (H):               0.20   Skew:                             0.59\n",
              "Prob(H) (two-sided):                  0.00   Kurtosis:                        45.00\n",
              "===================================================================================\n",
              "\n",
              "Warnings:\n",
              "[1] Covariance matrix calculated using the outer product of gradients (complex-step).\n",
              "\"\"\""
            ]
          },
          "metadata": {
            "tags": []
          },
          "execution_count": 13
        }
      ]
    },
    {
      "cell_type": "markdown",
      "metadata": {
        "id": "P7vnXa_1Hh1U"
      },
      "source": [
        "A última etapa é realizar uma previsão utilizando o melhor modelo:\n",
        "Utilizando a função forecast sobre o modelo ajustado, faça uma previsão apropriada para a quantidade de dias que existem no seu conjunto de teste;"
      ]
    },
    {
      "cell_type": "code",
      "metadata": {
        "id": "DL-9K5z4BgHD",
        "outputId": "a0adbb7c-1d3b-44d3-e74c-691b65044fac",
        "colab": {
          "base_uri": "https://localhost:8080/"
        }
      },
      "source": [
        "df_forecast = res.forecast(92)"
      ],
      "execution_count": null,
      "outputs": [
        {
          "output_type": "stream",
          "text": [
            "/usr/local/lib/python3.6/dist-packages/statsmodels/tsa/base/tsa_model.py:576: ValueWarning: No supported index is available. Prediction results will be given with an integer index beginning at `start`.\n",
            "  ValueWarning)\n"
          ],
          "name": "stderr"
        }
      ]
    },
    {
      "cell_type": "code",
      "metadata": {
        "id": "-OevgDyvI7t0",
        "outputId": "b8b2b3b8-dc06-4ac6-932d-cd2ac3a98904",
        "colab": {
          "base_uri": "https://localhost:8080/"
        }
      },
      "source": [
        "df_forecast"
      ],
      "execution_count": null,
      "outputs": [
        {
          "output_type": "execute_result",
          "data": {
            "text/plain": [
              "213    1.846921\n",
              "214    1.705559\n",
              "215    1.575017\n",
              "216    1.454466\n",
              "217    1.343143\n",
              "         ...   \n",
              "300    0.001811\n",
              "301    0.001672\n",
              "302    0.001544\n",
              "303    0.001426\n",
              "304    0.001317\n",
              "Length: 92, dtype: float64"
            ]
          },
          "metadata": {
            "tags": []
          },
          "execution_count": 15
        }
      ]
    },
    {
      "cell_type": "code",
      "metadata": {
        "id": "lBaj4ZE7Jumz",
        "outputId": "d17b9145-83da-42dc-e7fa-4269e96e1da7",
        "colab": {
          "base_uri": "https://localhost:8080/"
        }
      },
      "source": [
        "df_forecast = pd.DataFrame(res.forecast(92), columns=['Views'])"
      ],
      "execution_count": null,
      "outputs": [
        {
          "output_type": "stream",
          "text": [
            "/usr/local/lib/python3.6/dist-packages/statsmodels/tsa/base/tsa_model.py:576: ValueWarning: No supported index is available. Prediction results will be given with an integer index beginning at `start`.\n",
            "  ValueWarning)\n"
          ],
          "name": "stderr"
        }
      ]
    },
    {
      "cell_type": "code",
      "metadata": {
        "id": "WEm1bZ7EKtBB",
        "outputId": "e3299232-b02e-4503-acab-93881107aa8d",
        "colab": {
          "base_uri": "https://localhost:8080/",
          "height": 419
        }
      },
      "source": [
        "df_forecast"
      ],
      "execution_count": null,
      "outputs": [
        {
          "output_type": "execute_result",
          "data": {
            "text/html": [
              "<div>\n",
              "<style scoped>\n",
              "    .dataframe tbody tr th:only-of-type {\n",
              "        vertical-align: middle;\n",
              "    }\n",
              "\n",
              "    .dataframe tbody tr th {\n",
              "        vertical-align: top;\n",
              "    }\n",
              "\n",
              "    .dataframe thead th {\n",
              "        text-align: right;\n",
              "    }\n",
              "</style>\n",
              "<table border=\"1\" class=\"dataframe\">\n",
              "  <thead>\n",
              "    <tr style=\"text-align: right;\">\n",
              "      <th></th>\n",
              "      <th>Views</th>\n",
              "    </tr>\n",
              "  </thead>\n",
              "  <tbody>\n",
              "    <tr>\n",
              "      <th>213</th>\n",
              "      <td>1.846921</td>\n",
              "    </tr>\n",
              "    <tr>\n",
              "      <th>214</th>\n",
              "      <td>1.705559</td>\n",
              "    </tr>\n",
              "    <tr>\n",
              "      <th>215</th>\n",
              "      <td>1.575017</td>\n",
              "    </tr>\n",
              "    <tr>\n",
              "      <th>216</th>\n",
              "      <td>1.454466</td>\n",
              "    </tr>\n",
              "    <tr>\n",
              "      <th>217</th>\n",
              "      <td>1.343143</td>\n",
              "    </tr>\n",
              "    <tr>\n",
              "      <th>...</th>\n",
              "      <td>...</td>\n",
              "    </tr>\n",
              "    <tr>\n",
              "      <th>300</th>\n",
              "      <td>0.001811</td>\n",
              "    </tr>\n",
              "    <tr>\n",
              "      <th>301</th>\n",
              "      <td>0.001672</td>\n",
              "    </tr>\n",
              "    <tr>\n",
              "      <th>302</th>\n",
              "      <td>0.001544</td>\n",
              "    </tr>\n",
              "    <tr>\n",
              "      <th>303</th>\n",
              "      <td>0.001426</td>\n",
              "    </tr>\n",
              "    <tr>\n",
              "      <th>304</th>\n",
              "      <td>0.001317</td>\n",
              "    </tr>\n",
              "  </tbody>\n",
              "</table>\n",
              "<p>92 rows × 1 columns</p>\n",
              "</div>"
            ],
            "text/plain": [
              "        Views\n",
              "213  1.846921\n",
              "214  1.705559\n",
              "215  1.575017\n",
              "216  1.454466\n",
              "217  1.343143\n",
              "..        ...\n",
              "300  0.001811\n",
              "301  0.001672\n",
              "302  0.001544\n",
              "303  0.001426\n",
              "304  0.001317\n",
              "\n",
              "[92 rows x 1 columns]"
            ]
          },
          "metadata": {
            "tags": []
          },
          "execution_count": 17
        }
      ]
    },
    {
      "cell_type": "code",
      "metadata": {
        "id": "jKHqJ72LLoUI",
        "outputId": "1509cf4f-e234-4fb8-ccb6-9625c5451294",
        "colab": {
          "base_uri": "https://localhost:8080/",
          "height": 450
        }
      },
      "source": [
        "df_test"
      ],
      "execution_count": null,
      "outputs": [
        {
          "output_type": "execute_result",
          "data": {
            "text/html": [
              "<div>\n",
              "<style scoped>\n",
              "    .dataframe tbody tr th:only-of-type {\n",
              "        vertical-align: middle;\n",
              "    }\n",
              "\n",
              "    .dataframe tbody tr th {\n",
              "        vertical-align: top;\n",
              "    }\n",
              "\n",
              "    .dataframe thead th {\n",
              "        text-align: right;\n",
              "    }\n",
              "</style>\n",
              "<table border=\"1\" class=\"dataframe\">\n",
              "  <thead>\n",
              "    <tr style=\"text-align: right;\">\n",
              "      <th></th>\n",
              "      <th>Views</th>\n",
              "    </tr>\n",
              "    <tr>\n",
              "      <th>Sight_Date</th>\n",
              "      <th></th>\n",
              "    </tr>\n",
              "  </thead>\n",
              "  <tbody>\n",
              "    <tr>\n",
              "      <th>2015-01-06</th>\n",
              "      <td>2</td>\n",
              "    </tr>\n",
              "    <tr>\n",
              "      <th>2015-02-18</th>\n",
              "      <td>1</td>\n",
              "    </tr>\n",
              "    <tr>\n",
              "      <th>2015-02-11</th>\n",
              "      <td>2</td>\n",
              "    </tr>\n",
              "    <tr>\n",
              "      <th>2015-02-11</th>\n",
              "      <td>2</td>\n",
              "    </tr>\n",
              "    <tr>\n",
              "      <th>2015-03-20</th>\n",
              "      <td>1</td>\n",
              "    </tr>\n",
              "    <tr>\n",
              "      <th>...</th>\n",
              "      <td>...</td>\n",
              "    </tr>\n",
              "    <tr>\n",
              "      <th>2017-06-07</th>\n",
              "      <td>1</td>\n",
              "    </tr>\n",
              "    <tr>\n",
              "      <th>2017-07-26</th>\n",
              "      <td>1</td>\n",
              "    </tr>\n",
              "    <tr>\n",
              "      <th>2017-07-06</th>\n",
              "      <td>1</td>\n",
              "    </tr>\n",
              "    <tr>\n",
              "      <th>2017-08-14</th>\n",
              "      <td>1</td>\n",
              "    </tr>\n",
              "    <tr>\n",
              "      <th>2017-08-04</th>\n",
              "      <td>1</td>\n",
              "    </tr>\n",
              "  </tbody>\n",
              "</table>\n",
              "<p>92 rows × 1 columns</p>\n",
              "</div>"
            ],
            "text/plain": [
              "            Views\n",
              "Sight_Date       \n",
              "2015-01-06      2\n",
              "2015-02-18      1\n",
              "2015-02-11      2\n",
              "2015-02-11      2\n",
              "2015-03-20      1\n",
              "...           ...\n",
              "2017-06-07      1\n",
              "2017-07-26      1\n",
              "2017-07-06      1\n",
              "2017-08-14      1\n",
              "2017-08-04      1\n",
              "\n",
              "[92 rows x 1 columns]"
            ]
          },
          "metadata": {
            "tags": []
          },
          "execution_count": 18
        }
      ]
    },
    {
      "cell_type": "code",
      "metadata": {
        "id": "sVjb4tNLJAGQ",
        "outputId": "8a0f58dc-5ec7-4cb7-f265-58fa16b4aea1",
        "colab": {
          "base_uri": "https://localhost:8080/"
        }
      },
      "source": [
        "array_forecast = []\n",
        "array_test = []\n",
        "diferenca = []\n",
        "\n",
        "for i in df_forecast.itertuples():\n",
        "  array_forecast.append(float(df_forecast.Views[i.Index]))\n",
        "\n",
        "for index, row in df_test.iterrows():\n",
        "  teste = str(row[\"Views\"])\n",
        "  array_test.append(float(teste))\n",
        "\n",
        "for i in range(92):\n",
        "  diferenca.append(array_forecast[i] - array_test[i])\n",
        "\n",
        "print(diferenca)"
      ],
      "execution_count": null,
      "outputs": [
        {
          "output_type": "stream",
          "text": [
            "[-0.15307858398886953, 0.7055593584602797, -0.4249829472907525, -0.5455336373842796, 0.3431425369913923, 0.2403393581624622, 0.14540466185587575, 0.057736199990302106, -0.023222179873839455, -0.09798406266216309, -0.16702372387369757, -0.2307791382965656, -0.2896547584386955, -0.34402408029941345, -0.39423201275869457, -0.44059706561503786, -0.4834133701524721, -0.522952545054793, -0.5594654195040463, -0.5931836243942719, -0.6243210617548763, -0.6530752617053791, -0.679628635549804, -1.704149632960113, -1.7267938105896397, -4.747704818895606, -4.767015313430944, -4.784847796386485, -4.801315393722106, -4.816522572816809, -0.8305658051903708, -0.8435341785007469, -0.8555099616996273, -0.8665691269313867, -0.8767818314862575, -0.8862128628651504, -0.8949220497795254, -0.902964641693627, -0.9103916593168231, -0.9172502182695096, -0.9235838279758553, -0.9294326676795083, -1.9348338413332546, -1.9398216129796044, -1.9444276241155125, -1.9486810944201598, -0.9526090071191701, -0.956236280161182, -0.959585924292688, -0.9626791890339351, -1.9655356974819358, -1.9681735707957506, -0.9706095431537548, -0.9728590679121594, -0.9749364156382317, -0.9768547646401242, -0.9786262845676137, -0.980262213614099, -0.9817729298096133, -0.9831680168571184, -0.9844563249297368, -0.9856460268146063, -0.9867446697595235, -1.987759223351282, -1.9886961237294367, -1.9895613144159785, -1.990360284019932, -0.9910981010560738, -0.9917794460986479, -0.9924086414740595, -0.9929896786809109, -0.9935262437113275, -0.994021740434207, -0.9944793121887318, -1.9949018617251286, -1.995292069619177, -0.9956524112772842, -0.9959851726400039, -0.9962924646836179, -0.9965762368117781, -0.9968382892221612, -0.9970802843265881, -0.9973037572970561, -0.9975101258045846, -0.9977006990126569, -1.9978766858823103, -1.9980392028415601, -0.9981892808678118, -0.9983278720281902, -0.9984558555192766, -0.9985740432445683, -0.9986831849650437]\n"
          ],
          "name": "stdout"
        }
      ]
    },
    {
      "cell_type": "code",
      "metadata": {
        "id": "MSW29YGzIl7I",
        "outputId": "87364925-1d27-4600-cb88-379c42b2f7c6",
        "colab": {
          "base_uri": "https://localhost:8080/"
        }
      },
      "source": [
        "# O Erro Médio é calculado quando calculamos o valor absoluto \n",
        "# da diferença entre o forecast e df_teste, depois pegamos a media desse vetor \n",
        "# resultante.\n",
        "print(\"Erro Médio:\")\n",
        "np.mean(np.abs(diferenca))"
      ],
      "execution_count": null,
      "outputs": [
        {
          "output_type": "stream",
          "text": [
            "Erro Médio:\n"
          ],
          "name": "stdout"
        },
        {
          "output_type": "execute_result",
          "data": {
            "text/plain": [
              "1.1942378489196437"
            ]
          },
          "metadata": {
            "tags": []
          },
          "execution_count": 22
        }
      ]
    },
    {
      "cell_type": "code",
      "metadata": {
        "id": "6VDWIHa9HwUn"
      },
      "source": [
        "print(\"Desvio Padrão:\")\n",
        "# O metódo que calcula o desvio padrão da amostra é .std()\n",
        "# ddof modifica o divisor da sum dos quadrados das amostras-menos-média. \n",
        "# O divisor é N - ddof , onde o padrão ddof é 0 como você pode ver no seu\n",
        "# resultado.\n",
        "np.std(diferenca, ddof=1)"
      ],
      "execution_count": null,
      "outputs": []
    }
  ]
}