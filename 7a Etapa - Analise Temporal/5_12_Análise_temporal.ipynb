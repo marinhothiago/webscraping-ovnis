{
  "nbformat": 4,
  "nbformat_minor": 0,
  "metadata": {
    "colab": {
      "name": "5.12 - Análise temporal.ipynb",
      "provenance": [],
      "collapsed_sections": []
    },
    "kernelspec": {
      "name": "python3",
      "display_name": "Python 3"
    }
  },
  "cells": [
    {
      "cell_type": "markdown",
      "metadata": {
        "id": "4Y8_vR3It74H"
      },
      "source": [
        "Ordenar as observações de forma ascendente temporalmente (da observação mais \n",
        "antiga para a observação mais recente)."
      ]
    },
    {
      "cell_type": "code",
      "metadata": {
        "id": "2Gosgw4Himi0",
        "outputId": "2b4cc9ed-fc42-4e86-89d9-f97ddd2b68d9",
        "colab": {
          "base_uri": "https://localhost:8080/",
          "height": 419
        }
      },
      "source": [
        "import pandas as pd\n",
        "import matplotlib.pyplot as plt\n",
        "import numpy as np\n",
        "\n",
        "#Ordenar as observações de forma ascendente temporalmente (da observação mais antiga para a observação mais recente).\n",
        "df_ovnis = pd.read_csv(\"df_OVNI_preparado.csv\", index_col=[0])\n",
        "\n",
        "#Cria um novo dataframe com os dados da cidade de Phoenix\n",
        "df_ovnis = df_ovnis[df_ovnis['City']=='Phoenix']\n",
        "\n",
        "#agrupa por data\n",
        "df_views = df_ovnis\n",
        "df_views['Views'] = df_views.groupby('Sight_Date')['Sight_Date'].transform('count')\n",
        "\n",
        "#Excluir as colunas cujo os dados não são necessários\n",
        "df_views = df_views.drop(columns=[\"Sight_Month\"])\n",
        "df_views = df_views.drop(columns=[\"Sight_Day\"])\n",
        "df_views = df_views.drop(columns=[\"Sight_Weekday\"])\n",
        "df_views = df_views.drop(columns=[\"Shape\"])\n",
        "df_views = df_views.drop(columns=[\"State\"])\n",
        "df_views = df_views.drop(columns=[\"City\"])\n",
        "df_views = df_views.drop(columns=[\"Sight_Time\"])\n",
        "df_views.sort_values(by='Sight_Date')"
      ],
      "execution_count": 4,
      "outputs": [
        {
          "output_type": "execute_result",
          "data": {
            "text/html": [
              "<div>\n",
              "<style scoped>\n",
              "    .dataframe tbody tr th:only-of-type {\n",
              "        vertical-align: middle;\n",
              "    }\n",
              "\n",
              "    .dataframe tbody tr th {\n",
              "        vertical-align: top;\n",
              "    }\n",
              "\n",
              "    .dataframe thead th {\n",
              "        text-align: right;\n",
              "    }\n",
              "</style>\n",
              "<table border=\"1\" class=\"dataframe\">\n",
              "  <thead>\n",
              "    <tr style=\"text-align: right;\">\n",
              "      <th></th>\n",
              "      <th>Sight_Date</th>\n",
              "      <th>Views</th>\n",
              "    </tr>\n",
              "  </thead>\n",
              "  <tbody>\n",
              "    <tr>\n",
              "      <th>335</th>\n",
              "      <td>1999-06-12</td>\n",
              "      <td>1</td>\n",
              "    </tr>\n",
              "    <tr>\n",
              "      <th>970</th>\n",
              "      <td>2001-11-12</td>\n",
              "      <td>1</td>\n",
              "    </tr>\n",
              "    <tr>\n",
              "      <th>1249</th>\n",
              "      <td>2003-05-31</td>\n",
              "      <td>1</td>\n",
              "    </tr>\n",
              "    <tr>\n",
              "      <th>1781</th>\n",
              "      <td>2005-02-21</td>\n",
              "      <td>1</td>\n",
              "    </tr>\n",
              "    <tr>\n",
              "      <th>1793</th>\n",
              "      <td>2005-03-20</td>\n",
              "      <td>1</td>\n",
              "    </tr>\n",
              "    <tr>\n",
              "      <th>...</th>\n",
              "      <td>...</td>\n",
              "      <td>...</td>\n",
              "    </tr>\n",
              "    <tr>\n",
              "      <th>70762</th>\n",
              "      <td>2017-06-15</td>\n",
              "      <td>2</td>\n",
              "    </tr>\n",
              "    <tr>\n",
              "      <th>71348</th>\n",
              "      <td>2017-07-06</td>\n",
              "      <td>1</td>\n",
              "    </tr>\n",
              "    <tr>\n",
              "      <th>71057</th>\n",
              "      <td>2017-07-26</td>\n",
              "      <td>1</td>\n",
              "    </tr>\n",
              "    <tr>\n",
              "      <th>71857</th>\n",
              "      <td>2017-08-04</td>\n",
              "      <td>1</td>\n",
              "    </tr>\n",
              "    <tr>\n",
              "      <th>71716</th>\n",
              "      <td>2017-08-14</td>\n",
              "      <td>1</td>\n",
              "    </tr>\n",
              "  </tbody>\n",
              "</table>\n",
              "<p>305 rows × 2 columns</p>\n",
              "</div>"
            ],
            "text/plain": [
              "       Sight_Date  Views\n",
              "335    1999-06-12      1\n",
              "970    2001-11-12      1\n",
              "1249   2003-05-31      1\n",
              "1781   2005-02-21      1\n",
              "1793   2005-03-20      1\n",
              "...           ...    ...\n",
              "70762  2017-06-15      2\n",
              "71348  2017-07-06      1\n",
              "71057  2017-07-26      1\n",
              "71857  2017-08-04      1\n",
              "71716  2017-08-14      1\n",
              "\n",
              "[305 rows x 2 columns]"
            ]
          },
          "metadata": {
            "tags": []
          },
          "execution_count": 4
        }
      ]
    },
    {
      "cell_type": "markdown",
      "metadata": {
        "id": "oetwjuz4uJ9C"
      },
      "source": [
        "Observar o gráfico em barras da série temporal para o ano x de forma a investigar como se comporta a distribuição das visualizações.\n",
        "Exemplo com o ano de 2017"
      ]
    },
    {
      "cell_type": "code",
      "metadata": {
        "id": "lkMkNAUVMHXq",
        "outputId": "4841e69a-08ff-4f69-f6ce-4d0ec5dea908",
        "colab": {
          "base_uri": "https://localhost:8080/",
          "height": 397
        }
      },
      "source": [
        "#Atribui o daframe a uma outro para manipulção mais livre\n",
        "df_mes = df_ovnis\n",
        "#Define o ano que quer ser visto no grafico\n",
        "ano = 2017\n",
        "\n",
        "#Transforma a coluna 'Sight_Date' em formato de data para separar o ano\n",
        "df_mes['Sight_Date'] = pd.to_datetime(df_mes['Sight_Date'])\n",
        "#Separa o ano em uma coluna propria\n",
        "df_mes['Sight_Year'] = df_mes['Sight_Date'].dt.strftime('%Y')\n",
        "#transforma o ano em string\n",
        "df_mes = df_mes[df_ovnis['Sight_Year'] == str(ano)]\n",
        "#Conta quantas visualizacoes cada mes tem\n",
        "df_mes[\"Views\"] = df_mes.groupby('Sight_Month')['Sight_Month'].transform('count')\n",
        "\n",
        "#cria um vetor com todos os meses do ano\n",
        "mes = [1, 2, 3, 4, 5, 6, 7, 8, 9, 10, 11, 12]\n",
        "#cria um vetor vazio que tera as views de cada mes\n",
        "views = []\n",
        "\n",
        "#no primeiro for ele vai rodar todos os 12 meses\n",
        "for j in mes:\n",
        "  #flag para nao duplicar o numero de views de meses repetidos\n",
        "  flag = 0\n",
        "  #segundo for que ira interar linha por linha do dataframe\n",
        "  for i in df_mes.itertuples():\n",
        "    if(df_mes.Sight_Month[i.Index] == j and flag == 0):\n",
        "      #atribui o numero do mes correspondente (representado pelo j)\n",
        "      views.append(df_mes.Views[i.Index])\n",
        "      flag = 1\n",
        "\n",
        "#preenche os meses cujo n tiveram observacoes registradas com o valor zero\n",
        "if(len(views) < 12):\n",
        "  meses_sem_views = 12 - len(views)\n",
        "  for i in range(meses_sem_views):\n",
        "    views.append(0)\n",
        "\n",
        "#----PLOTANDO O GRAFICO-----\n",
        "\n",
        "#cria distancia entre as barras\n",
        "x1 =  np.arange(len(views))\n",
        "\n",
        "# Plota as barras\n",
        "plt.bar(x1, views, width=0.5, label = 'Produto A')\n",
        "\n",
        "# coloca o nome dos meses como label do eixo x\n",
        "plt.xticks([x for x in range(len(views))], mes)\n",
        "\n",
        "plt.title(\"Ano de \"+ str(ano))\n",
        "plt.xlabel('Month')\n",
        "plt.ylabel('Views')\n",
        "plt.show()"
      ],
      "execution_count": 100,
      "outputs": [
        {
          "output_type": "stream",
          "text": [
            "/usr/local/lib/python3.6/dist-packages/ipykernel_launcher.py:7: SettingWithCopyWarning: \n",
            "A value is trying to be set on a copy of a slice from a DataFrame.\n",
            "Try using .loc[row_indexer,col_indexer] = value instead\n",
            "\n",
            "See the caveats in the documentation: https://pandas.pydata.org/pandas-docs/stable/user_guide/indexing.html#returning-a-view-versus-a-copy\n",
            "  import sys\n"
          ],
          "name": "stderr"
        },
        {
          "output_type": "display_data",
          "data": {
            "image/png": "[encoded data removed]",
            "text/plain": [
              "<Figure size 432x288 with 1 Axes>"
            ]
          },
          "metadata": {
            "tags": [],
            "needs_background": "light"
          }
        }
      ]
    },
    {
      "cell_type": "markdown",
      "metadata": {
        "id": "R9sO_NyguMyy"
      },
      "source": [
        "Observar o gráfico de linha da evolução do número de observações ao longo do tempo (anos)."
      ]
    },
    {
      "cell_type": "code",
      "metadata": {
        "id": "J_kCmUa8Y-eE",
        "outputId": "c60d8f4f-c783-45d0-cd1f-4c2ecb95f280",
        "colab": {
          "base_uri": "https://localhost:8080/",
          "height": 310
        }
      },
      "source": [
        "#Atribui o daframe a uma outro para manipulção mais livre#Atribui o daframe a uma outro para manipulção mais livre\n",
        "df_anos = df_ovnis\n",
        "\n",
        "#Array vazio que tera os anos de 1997 a 2017\n",
        "anos = []\n",
        "#Array vazio que tera as views correspondennte ao periodo pedido\n",
        "views = []\n",
        "#Anos que aparecerao no grafico\n",
        "anos_grafico = []\n",
        "\n",
        "#Transforma a coluna 'Sight_Date' em formato de data para separar o ano\n",
        "df_anos['Sight_Date'] = pd.to_datetime(df_anos['Sight_Date'])\n",
        "#Separa o ano em uma coluna propria\n",
        "df_anos['Sight_Year'] = df_anos['Sight_Date'].dt.strftime('%Y')\n",
        "#Conta quantas visualizacoes cada ano tem\n",
        "df_anos[\"Views\"] = df_anos.groupby('Sight_Year')['Sight_Year'].transform('count')\n",
        "\n",
        "#intera os anos de 1997 a 2017 no array 'anos'\n",
        "for i in range(1997, 2018):\n",
        "  anos.append(i)\n",
        "\n",
        "#no primeiro for ele vai rodar todos os os anos que o array rececbeu\n",
        "for j in anos:\n",
        "  #flag para nao duplicar o numero de views de anos repetidos\n",
        "  flag = 0\n",
        "  #segundo for que ira interar linha por linha do dataframe\n",
        "  for i in df_anos.itertuples():\n",
        "    if(df_anos.Sight_Year[i.Index] == str(j) and flag == 0):\n",
        "      #atribui o ano correspondente a view adicionada\n",
        "      anos_grafico.append(str(j))\n",
        "      #atribui o numero do ano correspondente (representado pelo j)\n",
        "      views.append(df_anos.Views[i.Index])\n",
        "      flag = 1\n",
        "\n",
        "#Atribui o 'anos_grafico' como anos do eixo x e as views no eixo y\n",
        "plt.plot(anos_grafico, views)\n",
        "plt.xlabel('Year')\n",
        "plt.ylabel('Views')\n",
        "plt.title(\"Evolução de Obervações ao Longo dos Anos de 1997 a 2017\")\n",
        "plt.xticks(rotation=45)\n",
        "\n",
        "plt.show()"
      ],
      "execution_count": 154,
      "outputs": [
        {
          "output_type": "display_data",
          "data": {
            "image/png": "[encoded data removed]",
            "text/plain": [
              "<Figure size 432x288 with 1 Axes>"
            ]
          },
          "metadata": {
            "tags": [],
            "needs_background": "light"
          }
        }
      ]
    }
  ]
}