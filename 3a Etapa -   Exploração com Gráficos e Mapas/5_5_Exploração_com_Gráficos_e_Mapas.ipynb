{
  "nbformat": 4,
  "nbformat_minor": 0,
  "metadata": {
    "colab": {
      "name": "5.5 - Exploração com Gráficos e Mapas.ipynb",
      "provenance": [],
      "collapsed_sections": []
    },
    "kernelspec": {
      "name": "python3",
      "display_name": "Python 3"
    }
  },
  "cells": [
    {
      "cell_type": "code",
      "metadata": {
        "id": "l4h-AvjFP-XN",
        "colab_type": "code",
        "colab": {
          "base_uri": "https://localhost:8080/",
          "height": 136
        },
        "outputId": "aa65f6c4-ec7d-4b3f-bf01-882dcbf6825d"
      },
      "source": [
        "import pandas as pd\n",
        "import matplotlib.pyplot as plt\n",
        "mport numpy as np\n",
        "\n",
        "df_ovnis = pd.read_csv(\"ovnis.csv\", index_col=[0])\n",
        "\n",
        "df_relatos = df_ovnis\n",
        "df_relatos = df_relatos.groupby('State').count()\n",
        "df_relatos = df_relatos.sort_values(ascending=False, by=\"Posted\")['Posted']\n",
        "\n",
        "print(\"Os quatro Estados com mais relatos\")\n",
        "print(df_relatos.head(4))"
      ],
      "execution_count": 245,
      "outputs": [
        {
          "output_type": "stream",
          "text": [
            "Os quatro Estados com mais relatos\n",
            "State\n",
            "CA    7911\n",
            "FL    4352\n",
            "WA    3225\n",
            "TX    2882\n",
            "Name: Posted, dtype: int64\n"
          ],
          "name": "stdout"
        }
      ]
    },
    {
      "cell_type": "code",
      "metadata": {
        "id": "jvnPg3VjBnB2",
        "colab_type": "code",
        "colab": {
          "base_uri": "https://localhost:8080/",
          "height": 295
        },
        "outputId": "029c94b6-716a-4f1d-bb65-c0db09688482"
      },
      "source": [
        "light = df_ovnis[df_ovnis['Shape'] == 'Light']\n",
        "circle = df_ovnis[df_ovnis['Shape'] == 'Circle']\n",
        "fireball = df_ovnis[df_ovnis['Shape'] == 'Fireball']\n",
        "sphere = df_ovnis[df_ovnis['Shape'] == 'Sphere']\n",
        "\n",
        "estados_light = []\n",
        "estados_circle = []\n",
        "estados_fireball = []\n",
        "estados_sphere = []\n",
        "\n",
        "states = ['CA', 'FL', 'WA', 'TX']\n",
        "\n",
        "for state in states:\n",
        "  estados_light.append(light[light['State'] == state].count()['Posted'])\n",
        "  estados_circle.append(circle[circle['State'] == state].count()['Posted'])\n",
        "  estados_fireball.append(fireball[fireball['State'] == state].count()['Posted'])\n",
        "  estados_sphere.append(sphere[sphere['State'] == state].count()['Posted'])\n",
        "\n",
        "# Cria eixo x para produto A e produto B com uma separação de 0.20 entre as barras\n",
        "x1 =  np.arange(len(estados_light))\n",
        "x2 = [x + 0.20 for x in x1]\n",
        "x3 = [x + 0.20 for x in x2]\n",
        "x4 = [x + 0.20 for x in x3]\n",
        "\n",
        "# Plota as barras\n",
        "plt.bar(x1, estados_light, width=0.20, label = 'Light')\n",
        "plt.bar(x2, estados_circle, width=0.20, label = 'Circle')\n",
        "plt.bar(x3, estados_fireball, width=0.20, label = 'Fireball')\n",
        "plt.bar(x4, estados_sphere, width=0.20, label = 'Sphere')\n",
        "\n",
        "plt.xticks([x + 0.30 for x in range(len(estados_light))], states)\n",
        "\n",
        "# insere uma legenda no gráfico\n",
        "plt.legend()\n",
        "\n",
        "plt.title(\"Grupo de Barras\")\n",
        "plt.xlabel('State')\n",
        "plt.ylabel('Views')\n",
        "plt.show()"
      ],
      "execution_count": 279,
      "outputs": [
        {
          "output_type": "display_data",
          "data": {
            "image/png": "[encoded data removed]",
            "text/plain": [
              "<Figure size 432x288 with 1 Axes>"
            ]
          },
          "metadata": {
            "tags": [],
            "needs_background": "light"
          }
        }
      ]
    },
    {
      "cell_type": "code",
      "metadata": {
        "id": "77wF4dDGBrqG",
        "colab_type": "code",
        "colab": {
          "base_uri": "https://localhost:8080/",
          "height": 295
        },
        "outputId": "da694e05-ff15-4484-abd6-b66e421e9962"
      },
      "source": [
        "# Cria eixo x para produto A e produto B com uma separação de 0.20 entre as barras\n",
        "x =  np.arange(len(estados_light))\n",
        "\n",
        "fireball_bottom = []\n",
        "sphere_bottom = []\n",
        "for i in range(0,4):\n",
        "  fireball_soma = int(estados_light[i]) + int(estados_circle[i])\n",
        "  fireball_bottom.append(fireball_soma)\n",
        "\n",
        "  sphere_soma = int(estados_light[i]) + int(estados_circle[i]) + int(estados_fireball[i])  \n",
        "  sphere_bottom.append(sphere_soma)\n",
        "\n",
        "# Plota as barras\n",
        "plt.bar(x, estados_light, width=0.50, label = 'Light')\n",
        "plt.bar(x, estados_circle, width=0.50, label = 'Circle', bottom=estados_light)\n",
        "plt.bar(x, estados_fireball, width=0.50, label = 'Fireball', bottom=fireball_bottom)\n",
        "plt.bar(x, estados_sphere, width=0.50, label = 'Sphere', bottom=sphere_bottom)\n",
        "\n",
        "plt.xticks([x for x in range(len(estados_light))], states)\n",
        "\n",
        "# insere uma legenda no gráfico\n",
        "plt.legend()\n",
        "\n",
        "plt.title(\"Grupo de Barras\")\n",
        "plt.xlabel('State')\n",
        "plt.ylabel('Views')\n",
        "plt.show()"
      ],
      "execution_count": 296,
      "outputs": [
        {
          "output_type": "display_data",
          "data": {
            "image/png": "[encoded data removed]",
            "text/plain": [
              "<Figure size 432x288 with 1 Axes>"
            ]
          },
          "metadata": {
            "tags": [],
            "needs_background": "light"
          }
        }
      ]
    }
  ]
}